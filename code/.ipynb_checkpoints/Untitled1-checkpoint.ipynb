{
 "cells": [
  {
   "cell_type": "code",
   "execution_count": 1,
   "metadata": {},
   "outputs": [],
   "source": [
    "import tweepy\n",
    "import keys\n",
    "import random\n",
    "import json\n",
    "import sqlite3\n",
    "import config\n",
    "import DateTime\n",
    "from datetime import datetime\n",
    "\n",
    "import pandas as pd"
   ]
  },
  {
   "cell_type": "code",
   "execution_count": 2,
   "metadata": {},
   "outputs": [],
   "source": [
    "import pandas as pd\n",
    "\n",
    "connection = sqlite3.connect(config.DB_FILE)\n",
    "connection.row_factory = sqlite3.Row\n",
    "cursor = connection.cursor()\n",
    "\n",
    "\n",
    "Api_key = keys.Api_key\n",
    "Api_Key_Secret = keys.Api_Key_Secret\n",
    "Bearer_Token = keys.Bearer_Token\n",
    "Access_Token = keys.Access_Token\n",
    "Access_Token_Secret = keys.Access_Token_Secret"
   ]
  },
  {
   "cell_type": "code",
   "execution_count": 5,
   "metadata": {},
   "outputs": [],
   "source": [
    "def getClient():\n",
    "    client = tweepy.Client(bearer_token=Bearer_Token,\n",
    "                           consumer_key=Api_key,\n",
    "                           consumer_secret=Api_Key_Secret,\n",
    "                           access_token=Access_Token,\n",
    "                           access_token_secret=Access_Token_Secret)\n",
    "\n",
    "    return client\n",
    "\n",
    "\n",
    "def searchTweets(query):\n",
    "    client = getClient()\n",
    "\n",
    "   # tweets = client.search_recent_tweets(\n",
    "    #   query=query, tweet_fields=['context_annotations', 'created_at'], expansions='author_id', max_results=100)\n",
    "\n",
    "    tweets = client.search_recent_tweets(\n",
    "        query=query, tweet_fields=['context_annotations', 'created_at'], expansions='author_id', max_results=25)\n",
    "    tweet_data = tweets.data\n",
    "    results = []\n",
    "\n",
    "    if not tweet_data is None and len(tweet_data) > 0:\n",
    "        for tweet in tweet_data:\n",
    "            obj = {}\n",
    "            obj['id'] = tweet.id\n",
    "            obj['text'] = tweet.text\n",
    "            obj['user'] = tweet.author_id\n",
    "            obj['time'] = tweet.created_at\n",
    "\n",
    "            results.append(obj)\n",
    "    else:\n",
    "        return []\n",
    "\n",
    "    return results\n"
   ]
  },
  {
   "cell_type": "code",
   "execution_count": 6,
   "metadata": {},
   "outputs": [],
   "source": [
    "car_companies = ['Ford', 'Tesla', 'Chevy', 'Toyota',\n",
    "                 'Honda', 'Hyundai', 'Volswagen', 'Kia']"
   ]
  },
  {
   "cell_type": "code",
   "execution_count": 8,
   "metadata": {},
   "outputs": [],
   "source": [
    "company_dict ={}"
   ]
  },
  {
   "cell_type": "code",
   "execution_count": 9,
   "metadata": {},
   "outputs": [],
   "source": [
    "for idx, name in enumerate(car_companies):\n",
    "    i = searchTweets(f'{name} lang:en')\n",
    "    company_dict[name] = i\n"
   ]
  },
  {
   "cell_type": "code",
   "execution_count": 10,
   "metadata": {},
   "outputs": [
    {
     "data": {
      "text/plain": [
       "{'Ford': {'id': 1487514589377941504,\n",
       "  'text': '@Route_60plus Yes, not a woody, but a 1955 Ford station wagon, and we did a 7,000 mile road trip with 6 kids, and pulling a 21 foot travel trailer. I will never forget that trip. We kidlets were age 17 down to about 5.',\n",
       "  'user': 829704399995801600,\n",
       "  'time': datetime.datetime(2022, 1, 29, 19, 54, 49, tzinfo=datetime.timezone.utc)},\n",
       " 'Tesla': {'id': 1487514596470444034,\n",
       "  'text': '@NorwegianRoad @n3ckf @elonmusk And why is the Tesla bot a priority? It doesn’t directly correlate to the mission of increasing sustainability at all. Why not the HVAC, which they said they already have most of potential development done, and it would actually help climate change?',\n",
       "  'user': 3008897068,\n",
       "  'time': datetime.datetime(2022, 1, 29, 19, 54, 51, tzinfo=datetime.timezone.utc)},\n",
       " 'Chevy': {'id': 1487514409647972358,\n",
       "  'text': 'RT @RandyRRQuaid: Called Chevy back told him to grow a brain vote #MAGA. Discussed sequel prison inmates on the run to Greenland. Polar opp…',\n",
       "  'user': 1467971924584243206,\n",
       "  'time': datetime.datetime(2022, 1, 29, 19, 54, 6, tzinfo=datetime.timezone.utc)},\n",
       " 'Toyota': {'id': 1487514597041057794,\n",
       "  'text': 'Really can’t be bothered thinking tonight, so I’m going to watch some Roald Dahl classic Toyota porn. https://t.co/rPllohAGvN',\n",
       "  'user': 54916422,\n",
       "  'time': datetime.datetime(2022, 1, 29, 19, 54, 51, tzinfo=datetime.timezone.utc)},\n",
       " 'Honda': {'id': 1487514439314255879,\n",
       "  'text': 'Honda CBR 600RR - TT Isle of Man - Ride on the Edge https://t.co/hQhxpXgGal  \\nLIKE ▪️ SHARE ▪️ FOLLOW',\n",
       "  'user': 1476742116,\n",
       "  'time': datetime.datetime(2022, 1, 29, 19, 54, 13, tzinfo=datetime.timezone.utc)},\n",
       " 'Hyundai': {'id': 1487514564732334080,\n",
       "  'text': 'Check out the color on this beauty!💎💙\\n\\nThis Certified Pre-Owned 2018 Hyundai Kona Limited has low miles, excellent fuel economy, and is ready to be driven home. Stop by this weekend for a test drive!\\nhttps://t.co/HEBWoTK5hi https://t.co/gCdUYgqOOW',\n",
       "  'user': 926168577065082880,\n",
       "  'time': datetime.datetime(2022, 1, 29, 19, 54, 43, tzinfo=datetime.timezone.utc)},\n",
       " 'Volswagen': {'id': 1487204070775406598,\n",
       "  'text': \"@Iron_Spike If you like that, you'll love this. Back in 1979 Günter Artz took  a Porsche 928, stripped it down to the chassis and put the body of a Volswagen Golf on it.\\n\\nhttps://t.co/hGIi4ClEJn\",\n",
       "  'user': 143655334,\n",
       "  'time': datetime.datetime(2022, 1, 28, 23, 20, 56, tzinfo=datetime.timezone.utc)},\n",
       " 'Kia': {'id': 1487514599411036161,\n",
       "  'text': 'RT @LqLana: Trayvon Martin, Tamir Rice, Stavian Rodriguez, Adam Toledo, Daunte Wright, Elijah McClain, Mah’Kia Bryant, Kameron Prescott 6,…',\n",
       "  'user': 3709659439,\n",
       "  'time': datetime.datetime(2022, 1, 29, 19, 54, 51, tzinfo=datetime.timezone.utc)}}"
      ]
     },
     "execution_count": 10,
     "metadata": {},
     "output_type": "execute_result"
    }
   ],
   "source": [
    "company_dict"
   ]
  },
  {
   "cell_type": "code",
   "execution_count": null,
   "metadata": {},
   "outputs": [],
   "source": []
  }
 ],
 "metadata": {
  "kernelspec": {
   "display_name": "Python 3",
   "language": "python",
   "name": "python3"
  },
  "language_info": {
   "codemirror_mode": {
    "name": "ipython",
    "version": 3
   },
   "file_extension": ".py",
   "mimetype": "text/x-python",
   "name": "python",
   "nbconvert_exporter": "python",
   "pygments_lexer": "ipython3",
   "version": "3.8.5"
  }
 },
 "nbformat": 4,
 "nbformat_minor": 4
}
